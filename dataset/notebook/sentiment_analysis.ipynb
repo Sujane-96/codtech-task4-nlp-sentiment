{
 "cells": [
  {
   "cell_type": "code",
   "source": [
    "import pandas as pd\n",
    "from textblob import TextBlob\n",
    "df = pd.read_csv('../dataset/reviews.csv')\n",
    "def get_sentiment(text):\n",
    "    polarity = TextBlob(text).sentiment.polarity\n",
    "    if polarity > 0.2:\n",
    "        return 'Positive'\n",
    "    elif polarity < -0.2:\n",
    "        return 'Negative'\n",
    "    else:\n",
    "        return 'Neutral'\n",
    "df['Sentiment'] = df['Review'].apply(get_sentiment)\n",
    "df.to_csv('../output/labeled_reviews.csv', index=False)\n",
    "df.head()"
   ],
   "metadata": {},
   "execution_count": null,
   "outputs": []
  }
 ],
 "metadata": {},
 "nbformat": 4,
 "nbformat_minor": 4
}
